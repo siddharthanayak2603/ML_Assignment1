{
 "cells": [
  {
   "cell_type": "code",
   "execution_count": 1,
   "id": "97d2d454",
   "metadata": {},
   "outputs": [
    {
     "name": "stdout",
     "output_type": "stream",
     "text": [
      "X_train shape:  (7352, 561)\n",
      "y_train shape:  (7352, 1)\n",
      "X_test shape:  (2947, 561)\n",
      "y_test shape:  (2947, 1)\n",
      "saved successfully\n"
     ]
    }
   ],
   "source": [
    "import numpy as np\n",
    "import pandas as pd\n",
    "\n",
    "X_train = pd.read_csv('../Datasets/UCI HAR Dataset/train/X_train.txt', sep=r'\\s+', header=None)\n",
    "y_train = pd.read_csv('../Datasets/UCI HAR Dataset/train/y_train.txt', sep=r'\\s+', header=None)\n",
    "\n",
    "X_test = pd.read_csv('../Datasets/UCI HAR Dataset/test/X_test.txt', sep=r'\\s+', header=None)\n",
    "y_test = pd.read_csv('../Datasets/UCI HAR Dataset/test/y_test.txt', sep=r'\\s+', header=None)\n",
    "\n",
    "\n",
    "print(\"X_train shape: \", X_train.shape)\n",
    "print(\"y_train shape: \", y_train.shape)\n",
    "print(\"X_test shape: \", X_test.shape)\n",
    "print(\"y_test shape: \", y_test.shape)\n",
    "\n",
    "np.save(r\"../Datasets/UCI HAR Dataset/UCI_X_train.npy\", X_train)\n",
    "np.save(r\"../Datasets/UCI HAR Dataset/UCI_X_test.npy\", X_test)\n",
    "np.save(r\"../Datasets/UCI HAR Dataset/UCI_y_train.npy\", y_train)\n",
    "np.save(r\"../Datasets/UCI HAR Dataset/UCI_y_test.npy\", y_test)\n",
    "\n",
    "print(\"saved successfully\")"
   ]
  }
 ],
 "metadata": {
  "kernelspec": {
   "display_name": "ML_venv",
   "language": "python",
   "name": "python3"
  },
  "language_info": {
   "codemirror_mode": {
    "name": "ipython",
    "version": 3
   },
   "file_extension": ".py",
   "mimetype": "text/x-python",
   "name": "python",
   "nbconvert_exporter": "python",
   "pygments_lexer": "ipython3",
   "version": "3.12.4"
  }
 },
 "nbformat": 4,
 "nbformat_minor": 5
}
